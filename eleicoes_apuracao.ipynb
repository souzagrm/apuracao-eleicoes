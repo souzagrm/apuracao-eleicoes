{
 "cells": [
  {
   "cell_type": "code",
   "execution_count": 5,
   "metadata": {},
   "outputs": [],
   "source": [
    "import pandas as pd\n",
    "import time\n",
    "from IPython.display import clear_output"
   ]
  },
  {
   "cell_type": "code",
   "execution_count": null,
   "metadata": {},
   "outputs": [],
   "source": [
    "while(True): #desculpe pelo while(true)\n",
    "    clear_output(wait=True) #limpa o output\n",
    "    URL = 'https://resultados.tse.jus.br/oficial/ele2022/544/dados-simplificados/br/br-c0001-e000544-r.json'\n",
    "    eleicoes = pd.read_json(URL)\n",
    "    df = pd.json_normalize(eleicoes['cand'])\n",
    "    df = df[['nm', 'vap', 'pvap']]\n",
    "    df = df.loc[(df['nm'] == 'JAIR BOLSONARO') | (df['nm'] == 'LULA')]\n",
    "    display(df)\n",
    "    time.sleep(60)"
   ]
  }
 ],
 "metadata": {
  "kernelspec": {
   "display_name": "Python 3.9.13 64-bit (microsoft store)",
   "language": "python",
   "name": "python3"
  },
  "language_info": {
   "codemirror_mode": {
    "name": "ipython",
    "version": 3
   },
   "file_extension": ".py",
   "mimetype": "text/x-python",
   "name": "python",
   "nbconvert_exporter": "python",
   "pygments_lexer": "ipython3",
   "version": "3.9.13"
  },
  "orig_nbformat": 4,
  "vscode": {
   "interpreter": {
    "hash": "6284a5fa5aa54b71cdf3d7c93f0524a3dcea0122a11332242c716e3c3806f15f"
   }
  }
 },
 "nbformat": 4,
 "nbformat_minor": 2
}
